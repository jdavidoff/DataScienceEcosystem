{
 "cells": [
  {
   "cell_type": "markdown",
   "id": "904ad406-e25e-4f77-8a2c-a1c2a8dcc3d6",
   "metadata": {},
   "source": [
    "# Data Science Tools and Ecosystem S"
   ]
  },
  {
   "cell_type": "markdown",
   "id": "cb5f1d3f-4ffd-4d03-b6d8-015d2d5d7ed5",
   "metadata": {},
   "source": [
    "## In this notebook, Data Science Tools and Ecosystem are summarized."
   ]
  },
  {
   "cell_type": "markdown",
   "id": "34e643d5-8f36-403c-b4e5-c154ad4d7b74",
   "metadata": {},
   "source": [
    "### Some of the popular languages that Data Scientists use are:\n",
    "\n",
    "1) Python\n",
    "2) R\n",
    "3) SQL"
   ]
  },
  {
   "cell_type": "markdown",
   "id": "9453c81e-9fd1-4154-8ee5-064277f26059",
   "metadata": {},
   "source": [
    "**Objectives:**\n",
    "+ Popular Languages for Data Science\n",
    "+ Popular Development Environments\n",
    "+ Popular Libraries"
   ]
  },
  {
   "cell_type": "markdown",
   "id": "d558db32-0de0-4142-9f56-3091f83b1848",
   "metadata": {},
   "source": [
    "### Some of the commonly used libraries used by Data Scientists include: \n",
    "\n",
    "1) Pandas\n",
    "2) Numpy\n",
    "3) Scikit-learn"
   ]
  },
  {
   "cell_type": "markdown",
   "id": "93095765-c097-41f0-8f50-0f57fe3e83ed",
   "metadata": {},
   "source": [
    "|Data Science Tools|\n",
    "--------------------\n",
    "|MongoDB|\n",
    "|SSMS|\n",
    "|Jupyter Notebooks|"
   ]
  },
  {
   "cell_type": "markdown",
   "id": "96337692-ed24-440a-b206-3d3af39f3c47",
   "metadata": {},
   "source": [
    "### Below are a few examples of evaluating arithmetic expressions in Python."
   ]
  },
  {
   "cell_type": "code",
   "execution_count": 13,
   "id": "afefca46-fef9-489b-ae9a-4e5b6e906c82",
   "metadata": {},
   "outputs": [
    {
     "data": {
      "text/plain": [
       "17"
      ]
     },
     "execution_count": 13,
     "metadata": {},
     "output_type": "execute_result"
    }
   ],
   "source": [
    "#This is a simple arithmetic expression to multiply then add integers\n",
    "\n",
    "(3*4) + 5"
   ]
  },
  {
   "cell_type": "code",
   "execution_count": 15,
   "id": "a407d8a2-b719-40b2-b1d7-50fff8a3632b",
   "metadata": {},
   "outputs": [
    {
     "data": {
      "text/plain": [
       "3.3333333333333335"
      ]
     },
     "execution_count": 15,
     "metadata": {},
     "output_type": "execute_result"
    }
   ],
   "source": [
    "#This will convert 200 minutes to hours by dividing it by 60\n",
    "200/60"
   ]
  },
  {
   "cell_type": "markdown",
   "id": "88e0a197-af51-44d9-8301-942236b470b7",
   "metadata": {},
   "source": [
    "## Author\n",
    "Justin Davidoff"
   ]
  }
 ],
 "metadata": {
  "kernelspec": {
   "display_name": "Python 3 (ipykernel)",
   "language": "python",
   "name": "python3"
  },
  "language_info": {
   "codemirror_mode": {
    "name": "ipython",
    "version": 3
   },
   "file_extension": ".py",
   "mimetype": "text/x-python",
   "name": "python",
   "nbconvert_exporter": "python",
   "pygments_lexer": "ipython3",
   "version": "3.12.4"
  }
 },
 "nbformat": 4,
 "nbformat_minor": 5
}
